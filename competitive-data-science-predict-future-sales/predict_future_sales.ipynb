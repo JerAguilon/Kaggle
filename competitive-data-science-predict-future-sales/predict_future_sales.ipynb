{
 "cells": [
  {
   "cell_type": "code",
   "execution_count": 1,
   "metadata": {},
   "outputs": [],
   "source": [
    "%reload_ext autoreload\n",
    "%autoreload 2\n",
    "%matplotlib inline\n",
    "from fastai.imports import *\n",
    "from fastai.transforms import *\n",
    "from fastai.conv_learner import *\n",
    "from fastai.model import *\n",
    "from fastai.dataset import *\n",
    "from fastai.sgdr import *\n",
    "from fastai.plots import *\n",
    "from fastai.dataset import *\n",
    "from fastai.structured import *\n",
    "from fastai.column_data import *\n",
    "\n",
    "from math import ceil\n",
    "\n",
    "from itertools import product\n",
    "import gc\n",
    "from dateutil import parser"
   ]
  },
  {
   "cell_type": "code",
   "execution_count": 2,
   "metadata": {},
   "outputs": [],
   "source": [
    "torch.cuda.set_device(0)"
   ]
  },
  {
   "cell_type": "code",
   "execution_count": 3,
   "metadata": {},
   "outputs": [
    {
     "data": {
      "text/plain": [
       "'/home/paperspace/fastai/fastai/__init__.py'"
      ]
     },
     "execution_count": 3,
     "metadata": {},
     "output_type": "execute_result"
    }
   ],
   "source": [
    "import fastai; fastai.__file__"
   ]
  },
  {
   "cell_type": "code",
   "execution_count": 4,
   "metadata": {},
   "outputs": [],
   "source": [
    "PATH = \"data/\"\n",
    "sz=224\n",
    "arch=resnext101_64\n",
    "batch_size=5"
   ]
  },
  {
   "cell_type": "markdown",
   "metadata": {},
   "source": [
    "## Feature Engineering"
   ]
  },
  {
   "cell_type": "code",
   "execution_count": null,
   "metadata": {},
   "outputs": [],
   "source": [
    "item_categories = pd.read_csv(f'{PATH}item_categories.csv')\n",
    "items = pd.read_csv(f'{PATH}items.csv')\n",
    "shops = pd.read_csv(f'{PATH}shops.csv')\n",
    "sales = pd.read_csv(f'{PATH}sales_train.csv')\n",
    "sales_test = pd.read_csv(f'{PATH}test.csv')"
   ]
  },
  {
   "cell_type": "code",
   "execution_count": null,
   "metadata": {},
   "outputs": [],
   "source": [
    "index_cols  = ['shop_id', 'item_id', 'date_block_num']\n",
    "\n",
    "# For every month we create a grid from all shops/items combinations from that month\n",
    "grid = [] \n",
    "for block_num in sales['date_block_num'].unique():\n",
    "    cur_shops = sales[sales['date_block_num']==block_num]['shop_id'].unique()\n",
    "    cur_items = sales[sales['date_block_num']==block_num]['item_id'].unique()\n",
    "    grid.append(np.array(list(product(*[cur_shops, cur_items, [block_num]])),dtype='int32'))\n",
    "\n",
    "#turn the grid into pandas dataframe\n",
    "grid = pd.DataFrame(np.vstack(grid), columns = index_cols,dtype=np.int32)\n",
    "\n",
    "#get aggregated values for (shop_id, item_id, month)\n",
    "gb = sales.groupby(index_cols,as_index=False).agg({'item_cnt_day':{'target':'sum'},'item_price': np.mean})\n",
    "\n",
    "#fix column names\n",
    "gb.columns = [col[0] if col[-1]=='' else col[-1] for col in gb.columns.values]\n",
    "#join aggregated data to the grid\n",
    "# all_data = pd.merge(grid,gb,how='left',on=index_cols).fillna(0)\n",
    "all_data = pd.merge(grid,gb,how='left',on=index_cols)\n",
    "#sort the data\n",
    "all_data.sort_values(['date_block_num','shop_id','item_id'],inplace=True)\n",
    "\n",
    "del grid,gb,cur_shops,cur_items\n",
    "del sales\n",
    "gc.collect()"
   ]
  },
  {
   "cell_type": "code",
   "execution_count": null,
   "metadata": {},
   "outputs": [],
   "source": [
    "def downcast_dtypes(df):\n",
    "    '''\n",
    "        Changes column types in the dataframe: \n",
    "                \n",
    "                `float64` type to `float32`\n",
    "                `int64`   type to `int32`\n",
    "    '''\n",
    "    \n",
    "    # Select columns to downcast\n",
    "    float_cols = [c for c in df if df[c].dtype == \"float64\"]\n",
    "    int_cols =   [c for c in df if df[c].dtype == \"int64\"]\n",
    "    \n",
    "    # Downcast\n",
    "    df[float_cols] = df[float_cols].astype(np.float32)\n",
    "    df[int_cols]   = df[int_cols].astype(np.int32)\n",
    "    \n",
    "    return df\n",
    "\n",
    "all_data.fillna(0.0,inplace=True)\n",
    "all_data['target'] = all_data['target'].clip(0.0,20.0)\n",
    "all_data['month'] = all_data['date_block_num'] % 12\n",
    "all_data['year'] = all_data['date_block_num'] // 12\n",
    "\n",
    "sales_test['date_block_num'] = 34\n",
    "sales_test['month'] = sales_test['date_block_num']%12\n",
    "sales_test['year'] = sales_test['date_block_num']//12\n",
    "\n",
    "all_data = pd.concat([all_data,sales_test])\n",
    "\n",
    "del sales_test\n",
    "gc.collect()"
   ]
  },
  {
   "cell_type": "code",
   "execution_count": null,
   "metadata": {},
   "outputs": [],
   "source": [
    "all_data = all_data.merge(items, on=\"item_id\")\n",
    "all_data.drop('item_name',axis = 1,inplace=True)\n",
    "all_data.sort_values(['date_block_num','shop_id','item_id'],inplace=True)\n",
    "\n",
    "all_data = downcast_dtypes(all_data)\n",
    "\n",
    "del items\n",
    "gc.collect()"
   ]
  },
  {
   "cell_type": "code",
   "execution_count": null,
   "metadata": {},
   "outputs": [],
   "source": [
    "lag_variable = ['target']\n",
    "lags = [1 ,2 ,3 ,4, 5, 12]\n",
    "for lag in lags:\n",
    "    sales_new_df = all_data[['date_block_num','shop_id','item_id']+lag_variable].copy()\n",
    "    sales_new_df.date_block_num+=lag\n",
    "    sales_new_df.columns = ['date_block_num','shop_id','item_id']+ [lag_feat+'_lag_'+str(lag) for lag_feat in lag_variable]\n",
    "    all_data = pd.merge(all_data, sales_new_df,on=['date_block_num','shop_id','item_id'] ,how='left')\n",
    "    del sales_new_df\n",
    "    gc.collect()\n",
    "\n",
    "for feat in all_data.columns:\n",
    "    if 'target' in feat:\n",
    "        all_data[feat]=all_data[feat].fillna(0)"
   ]
  },
  {
   "cell_type": "code",
   "execution_count": null,
   "metadata": {},
   "outputs": [],
   "source": [
    "\n",
    "all_data['avg_sales_per_shop_id'] = 0.0\n",
    "all_data['avg_sales_per_item_id'] = 0.0\n",
    "all_data['avg_sales_per_item_cat_id'] = 0.0\n",
    "\n",
    "avg_shop_sales_per_month = all_data.groupby(['shop_id','date_block_num'],as_index=False).agg({'target':'mean'})\n",
    "avg_item_sales_per_month = all_data.groupby(['item_id','date_block_num'],as_index=False).agg({'target':'mean'})\n",
    "avg_item_cat_sales_per_month = all_data.groupby(['item_category_id','date_block_num'],as_index=False).agg({'target':'mean'})\n",
    "\n",
    "#lets calculate  6 lags\n",
    "lag_variable = ['item_id','shop_id','item_category_id']\n",
    "lags = [1 ,2 ,3 ,4, 5, 12]\n",
    "curr = 0\n",
    "for lag in lags:\n",
    "    diff = lag - curr\n",
    "    curr = lag\n",
    "    avg_shop_sales_per_month.date_block_num+=diff\n",
    "    avg_item_cat_sales_per_month.date_block_num+=diff\n",
    "    avg_item_sales_per_month.date_block_num+=diff\n",
    "    \n",
    "    avg_shop_sales_per_month.columns = ['shop_id','date_block_num']+ [lag_variable[1]+'_lag_'+str(lag)]\n",
    "    avg_item_sales_per_month.columns = ['item_id','date_block_num']+ [lag_variable[0]+'_lag_'+str(lag)]\n",
    "    avg_item_cat_sales_per_month.columns = ['item_category_id','date_block_num']+ [lag_variable[2]+'_lag_'+str(lag)]\n",
    "    \n",
    "    all_data = pd.merge(all_data, avg_shop_sales_per_month,on=['date_block_num','shop_id'] ,how='left')\n",
    "    all_data = pd.merge(all_data, avg_item_sales_per_month,on=['date_block_num','item_id'] ,how='left')\n",
    "    all_data = pd.merge(all_data, avg_item_cat_sales_per_month,on=['date_block_num','item_category_id'] ,how='left')\n",
    "    \n",
    "    gc.collect()\n",
    "del avg_item_cat_sales_per_month,avg_item_sales_per_month,avg_shop_sales_per_month"
   ]
  },
  {
   "cell_type": "code",
   "execution_count": null,
   "metadata": {},
   "outputs": [],
   "source": [
    "all_data.drop(columns=['mean'],inplace=True)\n",
    "all_data.sort_values(['date_block_num','shop_id','item_id'],inplace=True)"
   ]
  },
  {
   "cell_type": "code",
   "execution_count": null,
   "metadata": {},
   "outputs": [],
   "source": [
    "all_data.fillna(0,inplace=True)\n",
    "gc.collect()"
   ]
  },
  {
   "cell_type": "code",
   "execution_count": null,
   "metadata": {},
   "outputs": [],
   "source": [
    "all_data.to_pickle(PATH + 'all_data.pkl')"
   ]
  },
  {
   "cell_type": "code",
   "execution_count": 5,
   "metadata": {},
   "outputs": [],
   "source": [
    "all_data = pd.read_pickle(PATH + 'all_data.pkl')"
   ]
  },
  {
   "cell_type": "code",
   "execution_count": 6,
   "metadata": {},
   "outputs": [],
   "source": [
    "cat_vars = [\n",
    "    'date_block_num',\n",
    "    'item_id',\n",
    "    'month',\n",
    "    'shop_id',\n",
    "    'year',\n",
    "    'item_category_id',\n",
    "]\n",
    "contin_vars = [\n",
    "    x for x in list(all_data.columns) if x not in cat_vars + ['ID'] # exclude ID\n",
    "]\n",
    "dep = 'target'"
   ]
  },
  {
   "cell_type": "code",
   "execution_count": 7,
   "metadata": {},
   "outputs": [
    {
     "data": {
      "text/plain": [
       "Index(['ID', 'date_block_num', 'item_id', 'month', 'shop_id', 'target', 'year',\n",
       "       'item_category_id', 'target_lag_1', 'target_lag_2', 'target_lag_3',\n",
       "       'target_lag_4', 'target_lag_5', 'target_lag_12',\n",
       "       'avg_sales_per_shop_id', 'avg_sales_per_item_id',\n",
       "       'avg_sales_per_item_cat_id', 'shop_id_lag_1', 'item_id_lag_1',\n",
       "       'item_category_id_lag_1', 'shop_id_lag_2', 'item_id_lag_2',\n",
       "       'item_category_id_lag_2', 'shop_id_lag_3', 'item_id_lag_3',\n",
       "       'item_category_id_lag_3', 'shop_id_lag_4', 'item_id_lag_4',\n",
       "       'item_category_id_lag_4', 'shop_id_lag_5', 'item_id_lag_5',\n",
       "       'item_category_id_lag_5', 'shop_id_lag_12', 'item_id_lag_12',\n",
       "       'item_category_id_lag_12'],\n",
       "      dtype='object')"
      ]
     },
     "execution_count": 7,
     "metadata": {},
     "output_type": "execute_result"
    }
   ],
   "source": [
    "all_data.columns"
   ]
  },
  {
   "cell_type": "code",
   "execution_count": 8,
   "metadata": {},
   "outputs": [],
   "source": [
    "for cat in cat_vars:\n",
    "    all_data[cat] = all_data[cat].astype('category').cat.as_ordered()"
   ]
  },
  {
   "cell_type": "code",
   "execution_count": 9,
   "metadata": {},
   "outputs": [],
   "source": [
    "X_train = all_data[(all_data['date_block_num']>12)&(all_data['date_block_num']<33)].drop(['target','ID'], axis = 1)\n",
    "y_train = all_data[(all_data['date_block_num']>12)&(all_data['date_block_num']<33)]['target']\n",
    "X_val =  all_data[all_data['date_block_num']==33].drop(['target','ID'], axis = 1)\n",
    "y_val = all_data[all_data['date_block_num'] == 33]['target']\n",
    "X_test = all_data[(all_data['date_block_num']==34)].drop(['target'],axis=1)\n",
    "del all_data"
   ]
  },
  {
   "cell_type": "code",
   "execution_count": 26,
   "metadata": {},
   "outputs": [],
   "source": [
    "X_test = X_test.drop('ID', axis=1)"
   ]
  },
  {
   "cell_type": "code",
   "execution_count": 13,
   "metadata": {},
   "outputs": [
    {
     "data": {
      "text/plain": [
       "235"
      ]
     },
     "execution_count": 13,
     "metadata": {},
     "output_type": "execute_result"
    }
   ],
   "source": [
    "gc.collect()"
   ]
  },
  {
   "cell_type": "code",
   "execution_count": 29,
   "metadata": {},
   "outputs": [],
   "source": [
    "X_train.to_pickle(PATH + 'X_train.pkl')\n",
    "y_train.to_pickle(PATH + 'y_train.pkl')\n",
    "X_val.to_pickle(PATH + 'X_val.pkl')\n",
    "y_val.to_pickle(PATH + 'y_val.pkl')\n",
    "X_test.to_pickle(PATH + 'X_test.pkl')"
   ]
  },
  {
   "cell_type": "code",
   "execution_count": 30,
   "metadata": {},
   "outputs": [
    {
     "data": {
      "text/html": [
       "<div>\n",
       "<style scoped>\n",
       "    .dataframe tbody tr th:only-of-type {\n",
       "        vertical-align: middle;\n",
       "    }\n",
       "\n",
       "    .dataframe tbody tr th {\n",
       "        vertical-align: top;\n",
       "    }\n",
       "\n",
       "    .dataframe thead th {\n",
       "        text-align: right;\n",
       "    }\n",
       "</style>\n",
       "<table border=\"1\" class=\"dataframe\">\n",
       "  <thead>\n",
       "    <tr style=\"text-align: right;\">\n",
       "      <th></th>\n",
       "      <th>date_block_num</th>\n",
       "      <th>item_id</th>\n",
       "      <th>month</th>\n",
       "      <th>shop_id</th>\n",
       "      <th>year</th>\n",
       "      <th>item_category_id</th>\n",
       "      <th>target_lag_1</th>\n",
       "      <th>target_lag_2</th>\n",
       "      <th>target_lag_3</th>\n",
       "      <th>target_lag_4</th>\n",
       "      <th>...</th>\n",
       "      <th>item_category_id_lag_3</th>\n",
       "      <th>shop_id_lag_4</th>\n",
       "      <th>item_id_lag_4</th>\n",
       "      <th>item_category_id_lag_4</th>\n",
       "      <th>shop_id_lag_5</th>\n",
       "      <th>item_id_lag_5</th>\n",
       "      <th>item_category_id_lag_5</th>\n",
       "      <th>shop_id_lag_12</th>\n",
       "      <th>item_id_lag_12</th>\n",
       "      <th>item_category_id_lag_12</th>\n",
       "    </tr>\n",
       "  </thead>\n",
       "  <tbody>\n",
       "    <tr>\n",
       "      <th>4836102</th>\n",
       "      <td>13</td>\n",
       "      <td>30</td>\n",
       "      <td>1</td>\n",
       "      <td>2</td>\n",
       "      <td>1</td>\n",
       "      <td>40</td>\n",
       "      <td>0.0</td>\n",
       "      <td>0.0</td>\n",
       "      <td>0.0</td>\n",
       "      <td>0.0</td>\n",
       "      <td>...</td>\n",
       "      <td>0.244913</td>\n",
       "      <td>0.089066</td>\n",
       "      <td>0.521739</td>\n",
       "      <td>0.236217</td>\n",
       "      <td>0.107034</td>\n",
       "      <td>0.288889</td>\n",
       "      <td>0.227597</td>\n",
       "      <td>0.059868</td>\n",
       "      <td>12.456522</td>\n",
       "      <td>0.266213</td>\n",
       "    </tr>\n",
       "    <tr>\n",
       "      <th>4836103</th>\n",
       "      <td>13</td>\n",
       "      <td>31</td>\n",
       "      <td>1</td>\n",
       "      <td>2</td>\n",
       "      <td>1</td>\n",
       "      <td>37</td>\n",
       "      <td>0.0</td>\n",
       "      <td>0.0</td>\n",
       "      <td>0.0</td>\n",
       "      <td>0.0</td>\n",
       "      <td>...</td>\n",
       "      <td>0.183129</td>\n",
       "      <td>0.089066</td>\n",
       "      <td>0.543478</td>\n",
       "      <td>0.170779</td>\n",
       "      <td>0.107034</td>\n",
       "      <td>0.422222</td>\n",
       "      <td>0.198978</td>\n",
       "      <td>0.059868</td>\n",
       "      <td>11.195652</td>\n",
       "      <td>0.196096</td>\n",
       "    </tr>\n",
       "    <tr>\n",
       "      <th>4836104</th>\n",
       "      <td>13</td>\n",
       "      <td>32</td>\n",
       "      <td>1</td>\n",
       "      <td>2</td>\n",
       "      <td>1</td>\n",
       "      <td>40</td>\n",
       "      <td>1.0</td>\n",
       "      <td>0.0</td>\n",
       "      <td>0.0</td>\n",
       "      <td>0.0</td>\n",
       "      <td>...</td>\n",
       "      <td>0.244913</td>\n",
       "      <td>0.089066</td>\n",
       "      <td>1.260870</td>\n",
       "      <td>0.236217</td>\n",
       "      <td>0.107034</td>\n",
       "      <td>1.311111</td>\n",
       "      <td>0.227597</td>\n",
       "      <td>0.059868</td>\n",
       "      <td>4.478261</td>\n",
       "      <td>0.266213</td>\n",
       "    </tr>\n",
       "    <tr>\n",
       "      <th>4836105</th>\n",
       "      <td>13</td>\n",
       "      <td>33</td>\n",
       "      <td>1</td>\n",
       "      <td>2</td>\n",
       "      <td>1</td>\n",
       "      <td>37</td>\n",
       "      <td>1.0</td>\n",
       "      <td>1.0</td>\n",
       "      <td>2.0</td>\n",
       "      <td>0.0</td>\n",
       "      <td>...</td>\n",
       "      <td>0.183129</td>\n",
       "      <td>0.089066</td>\n",
       "      <td>0.717391</td>\n",
       "      <td>0.170779</td>\n",
       "      <td>0.107034</td>\n",
       "      <td>0.955556</td>\n",
       "      <td>0.198978</td>\n",
       "      <td>0.059868</td>\n",
       "      <td>0.847826</td>\n",
       "      <td>0.196096</td>\n",
       "    </tr>\n",
       "    <tr>\n",
       "      <th>4836106</th>\n",
       "      <td>13</td>\n",
       "      <td>34</td>\n",
       "      <td>1</td>\n",
       "      <td>2</td>\n",
       "      <td>1</td>\n",
       "      <td>40</td>\n",
       "      <td>0.0</td>\n",
       "      <td>0.0</td>\n",
       "      <td>0.0</td>\n",
       "      <td>0.0</td>\n",
       "      <td>...</td>\n",
       "      <td>0.244913</td>\n",
       "      <td>0.089066</td>\n",
       "      <td>0.043478</td>\n",
       "      <td>0.236217</td>\n",
       "      <td>0.107034</td>\n",
       "      <td>0.200000</td>\n",
       "      <td>0.227597</td>\n",
       "      <td>0.059868</td>\n",
       "      <td>0.239130</td>\n",
       "      <td>0.266213</td>\n",
       "    </tr>\n",
       "  </tbody>\n",
       "</table>\n",
       "<p>5 rows × 33 columns</p>\n",
       "</div>"
      ],
      "text/plain": [
       "        date_block_num item_id month shop_id year item_category_id  \\\n",
       "4836102             13      30     1       2    1               40   \n",
       "4836103             13      31     1       2    1               37   \n",
       "4836104             13      32     1       2    1               40   \n",
       "4836105             13      33     1       2    1               37   \n",
       "4836106             13      34     1       2    1               40   \n",
       "\n",
       "         target_lag_1  target_lag_2  target_lag_3  target_lag_4  \\\n",
       "4836102           0.0           0.0           0.0           0.0   \n",
       "4836103           0.0           0.0           0.0           0.0   \n",
       "4836104           1.0           0.0           0.0           0.0   \n",
       "4836105           1.0           1.0           2.0           0.0   \n",
       "4836106           0.0           0.0           0.0           0.0   \n",
       "\n",
       "                  ...             item_category_id_lag_3  shop_id_lag_4  \\\n",
       "4836102           ...                           0.244913       0.089066   \n",
       "4836103           ...                           0.183129       0.089066   \n",
       "4836104           ...                           0.244913       0.089066   \n",
       "4836105           ...                           0.183129       0.089066   \n",
       "4836106           ...                           0.244913       0.089066   \n",
       "\n",
       "         item_id_lag_4  item_category_id_lag_4  shop_id_lag_5  item_id_lag_5  \\\n",
       "4836102       0.521739                0.236217       0.107034       0.288889   \n",
       "4836103       0.543478                0.170779       0.107034       0.422222   \n",
       "4836104       1.260870                0.236217       0.107034       1.311111   \n",
       "4836105       0.717391                0.170779       0.107034       0.955556   \n",
       "4836106       0.043478                0.236217       0.107034       0.200000   \n",
       "\n",
       "         item_category_id_lag_5  shop_id_lag_12  item_id_lag_12  \\\n",
       "4836102                0.227597        0.059868       12.456522   \n",
       "4836103                0.198978        0.059868       11.195652   \n",
       "4836104                0.227597        0.059868        4.478261   \n",
       "4836105                0.198978        0.059868        0.847826   \n",
       "4836106                0.227597        0.059868        0.239130   \n",
       "\n",
       "         item_category_id_lag_12  \n",
       "4836102                 0.266213  \n",
       "4836103                 0.196096  \n",
       "4836104                 0.266213  \n",
       "4836105                 0.196096  \n",
       "4836106                 0.266213  \n",
       "\n",
       "[5 rows x 33 columns]"
      ]
     },
     "execution_count": 30,
     "metadata": {},
     "output_type": "execute_result"
    }
   ],
   "source": [
    "X_train.head()"
   ]
  },
  {
   "cell_type": "code",
   "execution_count": 31,
   "metadata": {},
   "outputs": [
    {
     "data": {
      "text/html": [
       "<div>\n",
       "<style scoped>\n",
       "    .dataframe tbody tr th:only-of-type {\n",
       "        vertical-align: middle;\n",
       "    }\n",
       "\n",
       "    .dataframe tbody tr th {\n",
       "        vertical-align: top;\n",
       "    }\n",
       "\n",
       "    .dataframe thead th {\n",
       "        text-align: right;\n",
       "    }\n",
       "</style>\n",
       "<table border=\"1\" class=\"dataframe\">\n",
       "  <thead>\n",
       "    <tr style=\"text-align: right;\">\n",
       "      <th></th>\n",
       "      <th>date_block_num</th>\n",
       "      <th>item_id</th>\n",
       "      <th>month</th>\n",
       "      <th>shop_id</th>\n",
       "      <th>year</th>\n",
       "      <th>item_category_id</th>\n",
       "      <th>target_lag_1</th>\n",
       "      <th>target_lag_2</th>\n",
       "      <th>target_lag_3</th>\n",
       "      <th>target_lag_4</th>\n",
       "      <th>...</th>\n",
       "      <th>item_category_id_lag_3</th>\n",
       "      <th>shop_id_lag_4</th>\n",
       "      <th>item_id_lag_4</th>\n",
       "      <th>item_category_id_lag_4</th>\n",
       "      <th>shop_id_lag_5</th>\n",
       "      <th>item_id_lag_5</th>\n",
       "      <th>item_category_id_lag_5</th>\n",
       "      <th>shop_id_lag_12</th>\n",
       "      <th>item_id_lag_12</th>\n",
       "      <th>item_category_id_lag_12</th>\n",
       "    </tr>\n",
       "  </thead>\n",
       "  <tbody>\n",
       "    <tr>\n",
       "      <th>10930345</th>\n",
       "      <td>34</td>\n",
       "      <td>5037</td>\n",
       "      <td>10</td>\n",
       "      <td>5</td>\n",
       "      <td>2</td>\n",
       "      <td>19</td>\n",
       "      <td>0.0</td>\n",
       "      <td>1.0</td>\n",
       "      <td>3.0</td>\n",
       "      <td>1.0</td>\n",
       "      <td>...</td>\n",
       "      <td>0.673160</td>\n",
       "      <td>0.179786</td>\n",
       "      <td>1.255814</td>\n",
       "      <td>0.447921</td>\n",
       "      <td>0.179064</td>\n",
       "      <td>2.441860</td>\n",
       "      <td>0.493052</td>\n",
       "      <td>0.206106</td>\n",
       "      <td>1.3</td>\n",
       "      <td>0.617857</td>\n",
       "    </tr>\n",
       "    <tr>\n",
       "      <th>10930404</th>\n",
       "      <td>34</td>\n",
       "      <td>5320</td>\n",
       "      <td>10</td>\n",
       "      <td>5</td>\n",
       "      <td>2</td>\n",
       "      <td>55</td>\n",
       "      <td>0.0</td>\n",
       "      <td>0.0</td>\n",
       "      <td>0.0</td>\n",
       "      <td>0.0</td>\n",
       "      <td>...</td>\n",
       "      <td>0.217244</td>\n",
       "      <td>0.179786</td>\n",
       "      <td>0.000000</td>\n",
       "      <td>0.216664</td>\n",
       "      <td>0.179064</td>\n",
       "      <td>0.000000</td>\n",
       "      <td>0.207304</td>\n",
       "      <td>0.206106</td>\n",
       "      <td>0.0</td>\n",
       "      <td>0.248076</td>\n",
       "    </tr>\n",
       "    <tr>\n",
       "      <th>10930389</th>\n",
       "      <td>34</td>\n",
       "      <td>5233</td>\n",
       "      <td>10</td>\n",
       "      <td>5</td>\n",
       "      <td>2</td>\n",
       "      <td>19</td>\n",
       "      <td>1.0</td>\n",
       "      <td>3.0</td>\n",
       "      <td>1.0</td>\n",
       "      <td>0.0</td>\n",
       "      <td>...</td>\n",
       "      <td>0.673160</td>\n",
       "      <td>0.179786</td>\n",
       "      <td>0.860465</td>\n",
       "      <td>0.447921</td>\n",
       "      <td>0.179064</td>\n",
       "      <td>2.767442</td>\n",
       "      <td>0.493052</td>\n",
       "      <td>0.206106</td>\n",
       "      <td>0.0</td>\n",
       "      <td>0.617857</td>\n",
       "    </tr>\n",
       "    <tr>\n",
       "      <th>10930388</th>\n",
       "      <td>34</td>\n",
       "      <td>5232</td>\n",
       "      <td>10</td>\n",
       "      <td>5</td>\n",
       "      <td>2</td>\n",
       "      <td>23</td>\n",
       "      <td>0.0</td>\n",
       "      <td>0.0</td>\n",
       "      <td>1.0</td>\n",
       "      <td>0.0</td>\n",
       "      <td>...</td>\n",
       "      <td>0.555861</td>\n",
       "      <td>0.179786</td>\n",
       "      <td>0.000000</td>\n",
       "      <td>0.419365</td>\n",
       "      <td>0.179064</td>\n",
       "      <td>0.000000</td>\n",
       "      <td>0.462636</td>\n",
       "      <td>0.206106</td>\n",
       "      <td>0.0</td>\n",
       "      <td>0.667134</td>\n",
       "    </tr>\n",
       "    <tr>\n",
       "      <th>10930395</th>\n",
       "      <td>34</td>\n",
       "      <td>5268</td>\n",
       "      <td>10</td>\n",
       "      <td>5</td>\n",
       "      <td>2</td>\n",
       "      <td>20</td>\n",
       "      <td>0.0</td>\n",
       "      <td>0.0</td>\n",
       "      <td>0.0</td>\n",
       "      <td>0.0</td>\n",
       "      <td>...</td>\n",
       "      <td>1.061809</td>\n",
       "      <td>0.179786</td>\n",
       "      <td>0.000000</td>\n",
       "      <td>0.880698</td>\n",
       "      <td>0.179064</td>\n",
       "      <td>0.000000</td>\n",
       "      <td>0.979093</td>\n",
       "      <td>0.206106</td>\n",
       "      <td>0.0</td>\n",
       "      <td>2.412464</td>\n",
       "    </tr>\n",
       "  </tbody>\n",
       "</table>\n",
       "<p>5 rows × 33 columns</p>\n",
       "</div>"
      ],
      "text/plain": [
       "         date_block_num item_id month shop_id year item_category_id  \\\n",
       "10930345             34    5037    10       5    2               19   \n",
       "10930404             34    5320    10       5    2               55   \n",
       "10930389             34    5233    10       5    2               19   \n",
       "10930388             34    5232    10       5    2               23   \n",
       "10930395             34    5268    10       5    2               20   \n",
       "\n",
       "          target_lag_1  target_lag_2  target_lag_3  target_lag_4  \\\n",
       "10930345           0.0           1.0           3.0           1.0   \n",
       "10930404           0.0           0.0           0.0           0.0   \n",
       "10930389           1.0           3.0           1.0           0.0   \n",
       "10930388           0.0           0.0           1.0           0.0   \n",
       "10930395           0.0           0.0           0.0           0.0   \n",
       "\n",
       "                   ...             item_category_id_lag_3  shop_id_lag_4  \\\n",
       "10930345           ...                           0.673160       0.179786   \n",
       "10930404           ...                           0.217244       0.179786   \n",
       "10930389           ...                           0.673160       0.179786   \n",
       "10930388           ...                           0.555861       0.179786   \n",
       "10930395           ...                           1.061809       0.179786   \n",
       "\n",
       "          item_id_lag_4  item_category_id_lag_4  shop_id_lag_5  item_id_lag_5  \\\n",
       "10930345       1.255814                0.447921       0.179064       2.441860   \n",
       "10930404       0.000000                0.216664       0.179064       0.000000   \n",
       "10930389       0.860465                0.447921       0.179064       2.767442   \n",
       "10930388       0.000000                0.419365       0.179064       0.000000   \n",
       "10930395       0.000000                0.880698       0.179064       0.000000   \n",
       "\n",
       "          item_category_id_lag_5  shop_id_lag_12  item_id_lag_12  \\\n",
       "10930345                0.493052        0.206106             1.3   \n",
       "10930404                0.207304        0.206106             0.0   \n",
       "10930389                0.493052        0.206106             0.0   \n",
       "10930388                0.462636        0.206106             0.0   \n",
       "10930395                0.979093        0.206106             0.0   \n",
       "\n",
       "          item_category_id_lag_12  \n",
       "10930345                 0.617857  \n",
       "10930404                 0.248076  \n",
       "10930389                 0.617857  \n",
       "10930388                 0.667134  \n",
       "10930395                 2.412464  \n",
       "\n",
       "[5 rows x 33 columns]"
      ]
     },
     "execution_count": 31,
     "metadata": {},
     "output_type": "execute_result"
    }
   ],
   "source": [
    "X_test.head()"
   ]
  },
  {
   "cell_type": "markdown",
   "metadata": {},
   "source": [
    "# Training"
   ]
  },
  {
   "cell_type": "markdown",
   "metadata": {},
   "source": [
    "## _Deep Learning Approach_"
   ]
  },
  {
   "cell_type": "code",
   "execution_count": 32,
   "metadata": {},
   "outputs": [],
   "source": [
    "def rmse(y_pred, targ):\n",
    "    return math.sqrt(((targ - y_pred)**2).mean())"
   ]
  },
  {
   "cell_type": "code",
   "execution_count": 33,
   "metadata": {
    "scrolled": true
   },
   "outputs": [],
   "source": [
    "X_train['target'] = y_train\n",
    "X_val['target'] = y_val\n",
    "X_test['target'] = 0\n",
    "df, y, nas, mapper = proc_df(X_train, 'target', do_scale=True)\n",
    "val_df, val_y, nas, mapper = proc_df(\n",
    "    X_val,\n",
    "    dep,\n",
    "    do_scale=True,\n",
    "    mapper=mapper,\n",
    ")\n",
    "test_df, _, nas, mapper = proc_df(\n",
    "    X_test,\n",
    "    dep,\n",
    "    do_scale=True,\n",
    "    mapper=mapper,\n",
    ")"
   ]
  },
  {
   "cell_type": "code",
   "execution_count": 34,
   "metadata": {},
   "outputs": [
    {
     "data": {
      "text/plain": [
       "Index(['date_block_num', 'item_id', 'month', 'shop_id', 'year',\n",
       "       'item_category_id', 'target_lag_1', 'target_lag_2', 'target_lag_3',\n",
       "       'target_lag_4', 'target_lag_5', 'target_lag_12',\n",
       "       'avg_sales_per_shop_id', 'avg_sales_per_item_id',\n",
       "       'avg_sales_per_item_cat_id', 'shop_id_lag_1', 'item_id_lag_1',\n",
       "       'item_category_id_lag_1', 'shop_id_lag_2', 'item_id_lag_2',\n",
       "       'item_category_id_lag_2', 'shop_id_lag_3', 'item_id_lag_3',\n",
       "       'item_category_id_lag_3', 'shop_id_lag_4', 'item_id_lag_4',\n",
       "       'item_category_id_lag_4', 'shop_id_lag_5', 'item_id_lag_5',\n",
       "       'item_category_id_lag_5', 'shop_id_lag_12', 'item_id_lag_12',\n",
       "       'item_category_id_lag_12'],\n",
       "      dtype='object')"
      ]
     },
     "execution_count": 34,
     "metadata": {},
     "output_type": "execute_result"
    }
   ],
   "source": [
    "test_df.columns"
   ]
  },
  {
   "cell_type": "code",
   "execution_count": 35,
   "metadata": {},
   "outputs": [],
   "source": [
    "y_train = np.log1p(y.clip(0.,40.))\n",
    "y_val = np.log1p(val_y.clip(0.,40.))"
   ]
  },
  {
   "cell_type": "code",
   "execution_count": 36,
   "metadata": {},
   "outputs": [],
   "source": [
    "md = ColumnarModelData.from_data_frames(\n",
    "    path=PATH,\n",
    "    trn_df=df,\n",
    "    trn_y=y_train,\n",
    "    val_df=val_df,\n",
    "    val_y=y_val,\n",
    "    cat_flds=cat_vars,\n",
    "    bs=256,\n",
    "    test_df=test_df,\n",
    "    is_reg=True,  # is regression\n",
    "    is_multi=False, \n",
    ")"
   ]
  },
  {
   "cell_type": "code",
   "execution_count": 37,
   "metadata": {},
   "outputs": [],
   "source": [
    "cat_sz = [(c, len(X_train[c].cat.categories)+1) for c in cat_vars]"
   ]
  },
  {
   "cell_type": "code",
   "execution_count": 38,
   "metadata": {},
   "outputs": [
    {
     "data": {
      "text/plain": [
       "[('date_block_num', 36),\n",
       " ('item_id', 22171),\n",
       " ('month', 13),\n",
       " ('shop_id', 61),\n",
       " ('year', 4),\n",
       " ('item_category_id', 85)]"
      ]
     },
     "execution_count": 38,
     "metadata": {},
     "output_type": "execute_result"
    }
   ],
   "source": [
    "cat_sz"
   ]
  },
  {
   "cell_type": "code",
   "execution_count": 39,
   "metadata": {},
   "outputs": [],
   "source": [
    "emb_szs = [(c, min(50, (c+1)//2)) for _,c in cat_sz]"
   ]
  },
  {
   "cell_type": "code",
   "execution_count": 40,
   "metadata": {},
   "outputs": [
    {
     "data": {
      "text/plain": [
       "[(36, 18), (22171, 50), (13, 7), (61, 31), (4, 2), (85, 43)]"
      ]
     },
     "execution_count": 40,
     "metadata": {},
     "output_type": "execute_result"
    }
   ],
   "source": [
    "emb_szs"
   ]
  },
  {
   "cell_type": "code",
   "execution_count": 53,
   "metadata": {},
   "outputs": [
    {
     "name": "stderr",
     "output_type": "stream",
     "text": [
      "/home/paperspace/fastai/fastai/column_data.py:101: UserWarning: nn.init.kaiming_normal is now deprecated in favor of nn.init.kaiming_normal_.\n",
      "  for o in self.lins: kaiming_normal(o.weight.data)\n",
      "/home/paperspace/fastai/fastai/column_data.py:103: UserWarning: nn.init.kaiming_normal is now deprecated in favor of nn.init.kaiming_normal_.\n",
      "  kaiming_normal(self.outp.weight.data)\n"
     ]
    }
   ],
   "source": [
    "m = md.get_learner(\n",
    "    emb_szs=emb_szs,\n",
    "    n_cont=len(df.columns) - len(cat_vars),\n",
    "    emb_drop=.01,\n",
    "    out_sz=1,\n",
    "    szs=[1000, 500, 500],\n",
    "    drops=[.001, .005, .005],\n",
    "    use_bn=True\n",
    ")"
   ]
  },
  {
   "cell_type": "code",
   "execution_count": 54,
   "metadata": {},
   "outputs": [],
   "source": [
    "m.crit = nn.MSELoss()"
   ]
  },
  {
   "cell_type": "code",
   "execution_count": 56,
   "metadata": {},
   "outputs": [
    {
     "data": {
      "application/vnd.jupyter.widget-view+json": {
       "model_id": "ca04b6fc5ba04380a70fa7b7b178162b",
       "version_major": 2,
       "version_minor": 0
      },
      "text/plain": [
       "HBox(children=(IntProgress(value=0, description='Epoch', max=1), HTML(value='')))"
      ]
     },
     "metadata": {},
     "output_type": "display_data"
    },
    {
     "name": "stdout",
     "output_type": "stream",
     "text": [
      "  0%|          | 0/22811 [00:00<?, ?it/s]\n",
      " 57%|█████▋    | 13013/22811 [01:57<01:28, 110.58it/s, loss=0.301] "
     ]
    }
   ],
   "source": [
    "m.lr_find()"
   ]
  },
  {
   "cell_type": "code",
   "execution_count": 57,
   "metadata": {},
   "outputs": [
    {
     "data": {
      "image/png": "[encoded data removed]",
      "text/plain": [
       "<Figure size 432x288 with 1 Axes>"
      ]
     },
     "metadata": {},
     "output_type": "display_data"
    }
   ],
   "source": [
    "m.sched.plot()"
   ]
  },
  {
   "cell_type": "code",
   "execution_count": null,
   "metadata": {
    "scrolled": false
   },
   "outputs": [
    {
     "data": {
      "application/vnd.jupyter.widget-view+json": {
       "model_id": "5ff59c35884242ada980fa4b548cd541",
       "version_major": 2,
       "version_minor": 0
      },
      "text/plain": [
       "HBox(children=(IntProgress(value=0, description='Epoch', max=7), HTML(value='')))"
      ]
     },
     "metadata": {},
     "output_type": "display_data"
    },
    {
     "name": "stdout",
     "output_type": "stream",
     "text": [
      "  3%|▎         | 601/22811 [00:06<03:43, 99.44it/s, loss=0.132] \n",
      "epoch      trn_loss   val_loss   rmse                              \n",
      "    0      0.085104   0.087867   0.279173  \n",
      "    1      0.076187   0.084828   0.275089                          \n",
      "    2      0.075572   0.084804   0.275144                          \n",
      "    3      0.071076   0.084849   0.274975                          \n",
      " 77%|███████▋  | 17532/22811 [02:48<00:50, 103.99it/s, loss=0.07]  "
     ]
    }
   ],
   "source": [
    "lr = 1e-5\n",
    "m.fit(lrs=lr, n_cycle=3, metrics=[rmse], cycle_len=1, cycle_mult=2)"
   ]
  },
  {
   "cell_type": "code",
   "execution_count": null,
   "metadata": {},
   "outputs": [],
   "source": [
    "m.fit(1e-6, n_cycle=2, metrics=[rmse])"
   ]
  },
  {
   "cell_type": "markdown",
   "metadata": {},
   "source": [
    "## Submit It!"
   ]
  },
  {
   "cell_type": "code",
   "execution_count": null,
   "metadata": {},
   "outputs": [],
   "source": [
    "result = m.predict(is_test=True)\n",
    "predictions = np.expm1(result).clip(0, 20)\n",
    "display(predictions)"
   ]
  },
  {
   "cell_type": "code",
   "execution_count": null,
   "metadata": {},
   "outputs": [],
   "source": [
    "final_dataframe = pd.read_csv(f'{PATH}test.csv')"
   ]
  },
  {
   "cell_type": "code",
   "execution_count": null,
   "metadata": {},
   "outputs": [],
   "source": [
    "final_dataframe['item_cnt_month'] = predictions\n",
    "final_dataframe = final_dataframe[['ID', 'item_cnt_month']]"
   ]
  },
  {
   "cell_type": "code",
   "execution_count": null,
   "metadata": {},
   "outputs": [],
   "source": [
    "final_dataframe.head()"
   ]
  },
  {
   "cell_type": "code",
   "execution_count": null,
   "metadata": {},
   "outputs": [],
   "source": [
    "len(final_dataframe)"
   ]
  },
  {
   "cell_type": "code",
   "execution_count": null,
   "metadata": {},
   "outputs": [],
   "source": [
    "len(np.unique(final_dataframe['ID']))"
   ]
  },
  {
   "cell_type": "code",
   "execution_count": null,
   "metadata": {},
   "outputs": [],
   "source": [
    "SUBM = 'sub/'\n",
    "os.makedirs(SUBM, exist_ok=True)\n",
    "final_dataframe.to_csv(f'{SUBM}subm.gz', compression='gzip', index=False)"
   ]
  },
  {
   "cell_type": "code",
   "execution_count": null,
   "metadata": {},
   "outputs": [],
   "source": [
    "FileLink(f'{SUBM}subm.gz')"
   ]
  },
  {
   "cell_type": "code",
   "execution_count": null,
   "metadata": {},
   "outputs": [],
   "source": []
  }
 ],
 "metadata": {
  "kernelspec": {
   "display_name": "Python 3",
   "language": "python",
   "name": "python3"
  },
  "language_info": {
   "codemirror_mode": {
    "name": "ipython",
    "version": 3
   },
   "file_extension": ".py",
   "mimetype": "text/x-python",
   "name": "python",
   "nbconvert_exporter": "python",
   "pygments_lexer": "ipython3",
   "version": "3.6.5"
  }
 },
 "nbformat": 4,
 "nbformat_minor": 2
}
